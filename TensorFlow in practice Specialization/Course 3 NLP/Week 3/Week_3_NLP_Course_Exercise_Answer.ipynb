{
  "nbformat": 4,
  "nbformat_minor": 0,
  "metadata": {
    "accelerator": "GPU",
    "colab": {
      "name": "NLP Course - Week 3 Exercise Answer.ipynb",
      "provenance": [],
      "toc_visible": true
    },
    "kernelspec": {
      "display_name": "Python 3",
      "name": "python3"
    }
  },
  "cells": [
    {
      "cell_type": "code",
      "metadata": {
        "id": "zX4Kg8DUTKWO",
        "colab_type": "code",
        "colab": {}
      },
      "source": [
        "#@title Licensed under the Apache License, Version 2.0 (the \"License\");\n",
        "# you may not use this file except in compliance with the License.\n",
        "# You may obtain a copy of the License at\n",
        "#\n",
        "# https://www.apache.org/licenses/LICENSE-2.0\n",
        "#\n",
        "# Unless required by applicable law or agreed to in writing, software\n",
        "# distributed under the License is distributed on an \"AS IS\" BASIS,\n",
        "# WITHOUT WARRANTIES OR CONDITIONS OF ANY KIND, either express or implied.\n",
        "# See the License for the specific language governing permissions and\n",
        "# limitations under the License."
      ],
      "execution_count": 0,
      "outputs": []
    },
    {
      "cell_type": "code",
      "metadata": {
        "colab_type": "code",
        "id": "hmA6EzkQJ5jt",
        "colab": {}
      },
      "source": [
        "import json\n",
        "import tensorflow as tf\n",
        "import csv\n",
        "import random\n",
        "import numpy as np\n",
        "\n",
        "from tensorflow.keras.preprocessing.text import Tokenizer\n",
        "from tensorflow.keras.preprocessing.sequence import pad_sequences\n",
        "from tensorflow.keras.utils import to_categorical\n",
        "from tensorflow.keras import regularizers\n",
        "\n",
        "\n",
        "embedding_dim = 100\n",
        "max_length = 16\n",
        "trunc_type='post'\n",
        "padding_type='post'\n",
        "oov_tok = \"<OOV>\"\n",
        "training_size=160000\n",
        "test_portion=.1\n",
        "\n",
        "corpus = []\n"
      ],
      "execution_count": 0,
      "outputs": []
    },
    {
      "cell_type": "code",
      "metadata": {
        "colab_type": "code",
        "id": "bM0l_dORKqE0",
        "outputId": "1bff26c4-3c4c-48aa-a410-dd771059db34",
        "colab": {
          "base_uri": "https://localhost:8080/",
          "height": 204
        }
      },
      "source": [
        "# Note that I cleaned the Stanford dataset to remove LATIN1 encoding to make it easier for Python CSV reader\n",
        "# You can do that yourself with:\n",
        "# iconv -f LATIN1 -t UTF8 training.1600000.processed.noemoticon.csv -o training_cleaned.csv\n",
        "# I then hosted it on my site to make it easier to use in this notebook\n",
        "\n",
        "!wget --no-check-certificate \\\n",
        "    https://storage.googleapis.com/laurencemoroney-blog.appspot.com/training_cleaned.csv \\\n",
        "    -O /tmp/training_cleaned.csv\n",
        "\n",
        "num_sentences = 0\n",
        "\n",
        "with open(\"/tmp/training_cleaned.csv\") as csvfile:\n",
        "    reader = csv.reader(csvfile, delimiter=',')\n",
        "    for row in reader:\n",
        "        list_item=[]\n",
        "        list_item.append(row[5])\n",
        "        this_label=row[0]\n",
        "        if this_label=='0':\n",
        "            list_item.append(0)\n",
        "        else:\n",
        "            list_item.append(1)\n",
        "        num_sentences = num_sentences + 1\n",
        "        corpus.append(list_item)\n"
      ],
      "execution_count": 16,
      "outputs": [
        {
          "output_type": "stream",
          "text": [
            "--2020-05-13 16:17:57--  https://storage.googleapis.com/laurencemoroney-blog.appspot.com/training_cleaned.csv\n",
            "Resolving storage.googleapis.com (storage.googleapis.com)... 74.125.206.128, 2a00:1450:400c:c0a::80\n",
            "Connecting to storage.googleapis.com (storage.googleapis.com)|74.125.206.128|:443... connected.\n",
            "HTTP request sent, awaiting response... 200 OK\n",
            "Length: 238942690 (228M) [application/octet-stream]\n",
            "Saving to: ‘/tmp/training_cleaned.csv’\n",
            "\n",
            "/tmp/training_clean 100%[===================>] 227.87M  37.3MB/s    in 6.1s    \n",
            "\n",
            "2020-05-13 16:18:04 (37.3 MB/s) - ‘/tmp/training_cleaned.csv’ saved [238942690/238942690]\n",
            "\n"
          ],
          "name": "stdout"
        }
      ]
    },
    {
      "cell_type": "code",
      "metadata": {
        "colab_type": "code",
        "id": "3kxblBUjEUX-",
        "outputId": "e8431084-d456-4b6c-ae7f-dc013546c71d",
        "colab": {
          "base_uri": "https://localhost:8080/",
          "height": 68
        }
      },
      "source": [
        "print(num_sentences)\n",
        "print(len(corpus))\n",
        "print(corpus[1])\n",
        "\n",
        "# Expected Output:\n",
        "# 1600000\n",
        "# 1600000\n",
        "# [\"is upset that he can't update his Facebook by texting it... and might cry as a result  School today also. Blah!\", 0]"
      ],
      "execution_count": 17,
      "outputs": [
        {
          "output_type": "stream",
          "text": [
            "1600000\n",
            "1600000\n",
            "[\"is upset that he can't update his Facebook by texting it... and might cry as a result  School today also. Blah!\", 0]\n"
          ],
          "name": "stdout"
        }
      ]
    },
    {
      "cell_type": "code",
      "metadata": {
        "colab_type": "code",
        "id": "ohOGz24lsNAD",
        "colab": {}
      },
      "source": [
        "sentences=[]\n",
        "labels=[]\n",
        "random.shuffle(corpus)\n",
        "for x in range(training_size):\n",
        "    sentences.append(corpus[x][0])\n",
        "    labels.append(corpus[x][1])\n",
        "\n",
        "\n",
        "tokenizer = Tokenizer()\n",
        "tokenizer.fit_on_texts(sentences)\n",
        "\n",
        "word_index = tokenizer.word_index\n",
        "vocab_size=len(word_index)\n",
        "\n",
        "sequences = tokenizer.texts_to_sequences(sentences)\n",
        "padded = pad_sequences(sequences, maxlen=max_length, padding=padding_type, truncating=trunc_type)\n",
        "\n",
        "split = int(test_portion * training_size)\n",
        "\n",
        "test_sequences = padded[0:split]\n",
        "training_sequences = padded[split:training_size]\n",
        "test_labels = labels[0:split]\n",
        "training_labels = labels[split:training_size]"
      ],
      "execution_count": 0,
      "outputs": []
    },
    {
      "cell_type": "code",
      "metadata": {
        "colab_type": "code",
        "id": "gIrtRem1En3N",
        "outputId": "45d311b0-3488-4c29-dc3b-c1d4d5049393",
        "colab": {
          "base_uri": "https://localhost:8080/",
          "height": 51
        }
      },
      "source": [
        "print(vocab_size)\n",
        "print(word_index['i'])\n",
        "# Expected Output\n",
        "# 138858\n",
        "# 1"
      ],
      "execution_count": 19,
      "outputs": [
        {
          "output_type": "stream",
          "text": [
            "138544\n",
            "1\n"
          ],
          "name": "stdout"
        }
      ]
    },
    {
      "cell_type": "code",
      "metadata": {
        "colab_type": "code",
        "id": "C1zdgJkusRh0",
        "outputId": "baaf9d97-0365-410d-864b-241a3802b51a",
        "colab": {
          "base_uri": "https://localhost:8080/",
          "height": 204
        }
      },
      "source": [
        "# Note this is the 100 dimension version of GloVe from Stanford\n",
        "# I unzipped and hosted it on my site to make this notebook easier\n",
        "!wget --no-check-certificate \\\n",
        "    https://storage.googleapis.com/laurencemoroney-blog.appspot.com/glove.6B.100d.txt \\\n",
        "    -O /tmp/glove.6B.100d.txt\n",
        "embeddings_index = {};\n",
        "with open('/tmp/glove.6B.100d.txt') as f:\n",
        "    for line in f:\n",
        "        values = line.split();\n",
        "        word = values[0];\n",
        "        coefs = np.asarray(values[1:], dtype='float32');\n",
        "        embeddings_index[word] = coefs;\n",
        "\n",
        "embeddings_matrix = np.zeros((vocab_size+1, embedding_dim));\n",
        "for word, i in word_index.items():\n",
        "    embedding_vector = embeddings_index.get(word);\n",
        "    if embedding_vector is not None:\n",
        "        embeddings_matrix[i] = embedding_vector;"
      ],
      "execution_count": 20,
      "outputs": [
        {
          "output_type": "stream",
          "text": [
            "--2020-05-13 16:18:25--  https://storage.googleapis.com/laurencemoroney-blog.appspot.com/glove.6B.100d.txt\n",
            "Resolving storage.googleapis.com (storage.googleapis.com)... 173.194.76.128, 2a00:1450:400c:c08::80\n",
            "Connecting to storage.googleapis.com (storage.googleapis.com)|173.194.76.128|:443... connected.\n",
            "HTTP request sent, awaiting response... 200 OK\n",
            "Length: 347116733 (331M) [text/plain]\n",
            "Saving to: ‘/tmp/glove.6B.100d.txt’\n",
            "\n",
            "\r/tmp/glove.6B.100d.   0%[                    ]       0  --.-KB/s               \r/tmp/glove.6B.100d.   5%[>                   ]  17.39M  86.9MB/s               \r/tmp/glove.6B.100d.  16%[==>                 ]  55.31M   138MB/s               \r/tmp/glove.6B.100d.  29%[====>               ]  99.16M   165MB/s               \r/tmp/glove.6B.100d.  36%[======>             ] 119.95M   150MB/s               \r/tmp/glove.6B.100d.  49%[========>           ] 164.84M   165MB/s               \r/tmp/glove.6B.100d.  64%[===========>        ] 212.45M   177MB/s               \r/tmp/glove.6B.100d.  77%[==============>     ] 256.01M   173MB/s               \r/tmp/glove.6B.100d.  90%[=================>  ] 299.89M   178MB/s               \r/tmp/glove.6B.100d. 100%[===================>] 331.04M   184MB/s    in 1.8s    \n",
            "\n",
            "2020-05-13 16:18:28 (184 MB/s) - ‘/tmp/glove.6B.100d.txt’ saved [347116733/347116733]\n",
            "\n"
          ],
          "name": "stdout"
        }
      ]
    },
    {
      "cell_type": "code",
      "metadata": {
        "colab_type": "code",
        "id": "71NLk_lpFLNt",
        "outputId": "dc2b54fc-2b7d-4a09-9bb6-fa24f9f27a7a",
        "colab": {
          "base_uri": "https://localhost:8080/",
          "height": 34
        }
      },
      "source": [
        "print(len(embeddings_matrix))\n",
        "# Expected Output\n",
        "# 138859"
      ],
      "execution_count": 21,
      "outputs": [
        {
          "output_type": "stream",
          "text": [
            "138545\n"
          ],
          "name": "stdout"
        }
      ]
    },
    {
      "cell_type": "code",
      "metadata": {
        "colab_type": "code",
        "id": "iKKvbuEBOGFz",
        "colab": {
          "base_uri": "https://localhost:8080/",
          "height": 1000
        },
        "outputId": "2b7dcf81-1f84-4922-d971-490efc54bdf6"
      },
      "source": [
        "model = tf.keras.Sequential([\n",
        "    tf.keras.layers.Embedding(vocab_size+1, embedding_dim, input_length=max_length, weights=[embeddings_matrix], trainable=False),\n",
        "    tf.keras.layers.Dropout(0.2),\n",
        "    tf.keras.layers.Conv1D(64, 5, activation='relu'),\n",
        "    tf.keras.layers.MaxPooling1D(pool_size=4),\n",
        "    tf.keras.layers.LSTM(64),\n",
        "    tf.keras.layers.Dense(1, activation='sigmoid')\n",
        "])\n",
        "model.compile(loss='binary_crossentropy',optimizer='adam',metrics=['accuracy'])\n",
        "model.summary()\n",
        "\n",
        "num_epochs = 50\n",
        "test_labels=np.asarray(test_labels)\n",
        "training_labels=np.asarray(training_labels)\n",
        "history = model.fit(training_sequences, training_labels, epochs=num_epochs, validation_data=(test_sequences, test_labels), verbose=2)\n",
        "\n",
        "print(\"Training Complete\")\n"
      ],
      "execution_count": 23,
      "outputs": [
        {
          "output_type": "stream",
          "text": [
            "Model: \"sequential_1\"\n",
            "_________________________________________________________________\n",
            "Layer (type)                 Output Shape              Param #   \n",
            "=================================================================\n",
            "embedding_1 (Embedding)      (None, 16, 100)           13854500  \n",
            "_________________________________________________________________\n",
            "dropout_1 (Dropout)          (None, 16, 100)           0         \n",
            "_________________________________________________________________\n",
            "conv1d_1 (Conv1D)            (None, 12, 64)            32064     \n",
            "_________________________________________________________________\n",
            "max_pooling1d_1 (MaxPooling1 (None, 3, 64)             0         \n",
            "_________________________________________________________________\n",
            "lstm_1 (LSTM)                (None, 64)                33024     \n",
            "_________________________________________________________________\n",
            "dense_1 (Dense)              (None, 1)                 65        \n",
            "=================================================================\n",
            "Total params: 13,919,653\n",
            "Trainable params: 65,153\n",
            "Non-trainable params: 13,854,500\n",
            "_________________________________________________________________\n",
            "Epoch 1/50\n",
            "4500/4500 - 20s - loss: 0.5693 - accuracy: 0.6979 - val_loss: 0.5303 - val_accuracy: 0.7327\n",
            "Epoch 2/50\n",
            "4500/4500 - 20s - loss: 0.5290 - accuracy: 0.7304 - val_loss: 0.5177 - val_accuracy: 0.7364\n",
            "Epoch 3/50\n",
            "4500/4500 - 20s - loss: 0.5133 - accuracy: 0.7419 - val_loss: 0.5120 - val_accuracy: 0.7439\n",
            "Epoch 4/50\n",
            "4500/4500 - 21s - loss: 0.5023 - accuracy: 0.7498 - val_loss: 0.5018 - val_accuracy: 0.7494\n",
            "Epoch 5/50\n",
            "4500/4500 - 20s - loss: 0.4935 - accuracy: 0.7560 - val_loss: 0.5031 - val_accuracy: 0.7509\n",
            "Epoch 6/50\n",
            "4500/4500 - 20s - loss: 0.4875 - accuracy: 0.7600 - val_loss: 0.5057 - val_accuracy: 0.7509\n",
            "Epoch 7/50\n",
            "4500/4500 - 20s - loss: 0.4814 - accuracy: 0.7639 - val_loss: 0.5087 - val_accuracy: 0.7450\n",
            "Epoch 8/50\n",
            "4500/4500 - 20s - loss: 0.4758 - accuracy: 0.7665 - val_loss: 0.5018 - val_accuracy: 0.7516\n",
            "Epoch 9/50\n",
            "4500/4500 - 20s - loss: 0.4709 - accuracy: 0.7691 - val_loss: 0.5035 - val_accuracy: 0.7489\n",
            "Epoch 10/50\n",
            "4500/4500 - 20s - loss: 0.4685 - accuracy: 0.7717 - val_loss: 0.5017 - val_accuracy: 0.7519\n",
            "Epoch 11/50\n",
            "4500/4500 - 20s - loss: 0.4645 - accuracy: 0.7733 - val_loss: 0.5034 - val_accuracy: 0.7544\n",
            "Epoch 12/50\n",
            "4500/4500 - 20s - loss: 0.4613 - accuracy: 0.7765 - val_loss: 0.5038 - val_accuracy: 0.7489\n",
            "Epoch 13/50\n",
            "4500/4500 - 20s - loss: 0.4595 - accuracy: 0.7771 - val_loss: 0.5055 - val_accuracy: 0.7536\n",
            "Epoch 14/50\n",
            "4500/4500 - 20s - loss: 0.4557 - accuracy: 0.7796 - val_loss: 0.5083 - val_accuracy: 0.7523\n",
            "Epoch 15/50\n",
            "4500/4500 - 20s - loss: 0.4560 - accuracy: 0.7785 - val_loss: 0.5045 - val_accuracy: 0.7519\n",
            "Epoch 16/50\n",
            "4500/4500 - 20s - loss: 0.4526 - accuracy: 0.7817 - val_loss: 0.5032 - val_accuracy: 0.7520\n",
            "Epoch 17/50\n",
            "4500/4500 - 20s - loss: 0.4506 - accuracy: 0.7818 - val_loss: 0.5043 - val_accuracy: 0.7488\n",
            "Epoch 18/50\n",
            "4500/4500 - 20s - loss: 0.4483 - accuracy: 0.7843 - val_loss: 0.5069 - val_accuracy: 0.7513\n",
            "Epoch 19/50\n",
            "4500/4500 - 21s - loss: 0.4469 - accuracy: 0.7845 - val_loss: 0.5095 - val_accuracy: 0.7499\n",
            "Epoch 20/50\n",
            "4500/4500 - 20s - loss: 0.4470 - accuracy: 0.7846 - val_loss: 0.5129 - val_accuracy: 0.7459\n",
            "Epoch 21/50\n",
            "4500/4500 - 20s - loss: 0.4460 - accuracy: 0.7852 - val_loss: 0.5135 - val_accuracy: 0.7477\n",
            "Epoch 22/50\n",
            "4500/4500 - 20s - loss: 0.4436 - accuracy: 0.7866 - val_loss: 0.5121 - val_accuracy: 0.7466\n",
            "Epoch 23/50\n",
            "4500/4500 - 20s - loss: 0.4437 - accuracy: 0.7875 - val_loss: 0.5153 - val_accuracy: 0.7427\n",
            "Epoch 24/50\n",
            "4500/4500 - 20s - loss: 0.4402 - accuracy: 0.7885 - val_loss: 0.5107 - val_accuracy: 0.7503\n",
            "Epoch 25/50\n",
            "4500/4500 - 20s - loss: 0.4412 - accuracy: 0.7874 - val_loss: 0.5117 - val_accuracy: 0.7486\n",
            "Epoch 26/50\n",
            "4500/4500 - 20s - loss: 0.4400 - accuracy: 0.7887 - val_loss: 0.5167 - val_accuracy: 0.7499\n",
            "Epoch 27/50\n",
            "4500/4500 - 20s - loss: 0.4392 - accuracy: 0.7890 - val_loss: 0.5172 - val_accuracy: 0.7466\n",
            "Epoch 28/50\n",
            "4500/4500 - 20s - loss: 0.4390 - accuracy: 0.7888 - val_loss: 0.5181 - val_accuracy: 0.7468\n",
            "Epoch 29/50\n",
            "4500/4500 - 20s - loss: 0.4382 - accuracy: 0.7899 - val_loss: 0.5174 - val_accuracy: 0.7471\n",
            "Epoch 30/50\n",
            "4500/4500 - 20s - loss: 0.4373 - accuracy: 0.7912 - val_loss: 0.5188 - val_accuracy: 0.7479\n",
            "Epoch 31/50\n",
            "4500/4500 - 20s - loss: 0.4369 - accuracy: 0.7904 - val_loss: 0.5217 - val_accuracy: 0.7453\n",
            "Epoch 32/50\n",
            "4500/4500 - 20s - loss: 0.4378 - accuracy: 0.7897 - val_loss: 0.5176 - val_accuracy: 0.7441\n",
            "Epoch 33/50\n",
            "4500/4500 - 20s - loss: 0.4357 - accuracy: 0.7925 - val_loss: 0.5206 - val_accuracy: 0.7458\n",
            "Epoch 34/50\n",
            "4500/4500 - 20s - loss: 0.4360 - accuracy: 0.7916 - val_loss: 0.5258 - val_accuracy: 0.7462\n",
            "Epoch 35/50\n",
            "4500/4500 - 21s - loss: 0.4351 - accuracy: 0.7923 - val_loss: 0.5234 - val_accuracy: 0.7479\n",
            "Epoch 36/50\n",
            "4500/4500 - 20s - loss: 0.4335 - accuracy: 0.7928 - val_loss: 0.5197 - val_accuracy: 0.7456\n",
            "Epoch 37/50\n",
            "4500/4500 - 20s - loss: 0.4338 - accuracy: 0.7931 - val_loss: 0.5252 - val_accuracy: 0.7436\n",
            "Epoch 38/50\n",
            "4500/4500 - 20s - loss: 0.4333 - accuracy: 0.7928 - val_loss: 0.5222 - val_accuracy: 0.7445\n",
            "Epoch 39/50\n",
            "4500/4500 - 20s - loss: 0.4339 - accuracy: 0.7931 - val_loss: 0.5227 - val_accuracy: 0.7452\n",
            "Epoch 40/50\n",
            "4500/4500 - 20s - loss: 0.4324 - accuracy: 0.7937 - val_loss: 0.5243 - val_accuracy: 0.7441\n",
            "Epoch 41/50\n",
            "4500/4500 - 20s - loss: 0.4314 - accuracy: 0.7938 - val_loss: 0.5245 - val_accuracy: 0.7451\n",
            "Epoch 42/50\n",
            "4500/4500 - 20s - loss: 0.4329 - accuracy: 0.7938 - val_loss: 0.5251 - val_accuracy: 0.7434\n",
            "Epoch 43/50\n",
            "4500/4500 - 20s - loss: 0.4316 - accuracy: 0.7935 - val_loss: 0.5247 - val_accuracy: 0.7434\n",
            "Epoch 44/50\n",
            "4500/4500 - 20s - loss: 0.4321 - accuracy: 0.7936 - val_loss: 0.5250 - val_accuracy: 0.7457\n",
            "Epoch 45/50\n",
            "4500/4500 - 20s - loss: 0.4315 - accuracy: 0.7937 - val_loss: 0.5242 - val_accuracy: 0.7456\n",
            "Epoch 46/50\n",
            "4500/4500 - 20s - loss: 0.4299 - accuracy: 0.7952 - val_loss: 0.5280 - val_accuracy: 0.7455\n",
            "Epoch 47/50\n",
            "4500/4500 - 20s - loss: 0.4313 - accuracy: 0.7949 - val_loss: 0.5271 - val_accuracy: 0.7444\n",
            "Epoch 48/50\n",
            "4500/4500 - 20s - loss: 0.4316 - accuracy: 0.7947 - val_loss: 0.5292 - val_accuracy: 0.7470\n",
            "Epoch 49/50\n",
            "4500/4500 - 20s - loss: 0.4282 - accuracy: 0.7959 - val_loss: 0.5295 - val_accuracy: 0.7440\n",
            "Epoch 50/50\n",
            "4500/4500 - 20s - loss: 0.4292 - accuracy: 0.7958 - val_loss: 0.5331 - val_accuracy: 0.7441\n",
            "Training Complete\n"
          ],
          "name": "stdout"
        }
      ]
    },
    {
      "cell_type": "code",
      "metadata": {
        "colab_type": "code",
        "id": "qxju4ItJKO8F",
        "colab": {
          "base_uri": "https://localhost:8080/",
          "height": 607
        },
        "outputId": "7299e920-d590-47e5-b7a6-7bbbde09a943"
      },
      "source": [
        "import matplotlib.image  as mpimg\n",
        "import matplotlib.pyplot as plt\n",
        "\n",
        "#-----------------------------------------------------------\n",
        "# Retrieve a list of list results on training and test data\n",
        "# sets for each training epoch\n",
        "#-----------------------------------------------------------\n",
        "acc=history.history['accuracy']\n",
        "val_acc=history.history['val_accuracy']\n",
        "loss=history.history['loss']\n",
        "val_loss=history.history['val_loss']\n",
        "\n",
        "epochs=range(len(acc)) # Get number of epochs\n",
        "\n",
        "#------------------------------------------------\n",
        "# Plot training and validation accuracy per epoch\n",
        "#------------------------------------------------\n",
        "plt.plot(epochs, acc, 'r')\n",
        "plt.plot(epochs, val_acc, 'b')\n",
        "plt.title('Training and validation accuracy')\n",
        "plt.xlabel(\"Epochs\")\n",
        "plt.ylabel(\"Accuracy\")\n",
        "plt.legend([\"Accuracy\", \"Validation Accuracy\"])\n",
        "\n",
        "plt.figure()\n",
        "\n",
        "#------------------------------------------------\n",
        "# Plot training and validation loss per epoch\n",
        "#------------------------------------------------\n",
        "plt.plot(epochs, loss, 'r')\n",
        "plt.plot(epochs, val_loss, 'b')\n",
        "plt.title('Training and validation loss')\n",
        "plt.xlabel(\"Epochs\")\n",
        "plt.ylabel(\"Loss\")\n",
        "plt.legend([\"Loss\", \"Validation Loss\"])\n",
        "\n",
        "plt.figure()\n",
        "\n",
        "\n",
        "# Expected Output\n",
        "# A chart where the validation loss does not increase sharply!"
      ],
      "execution_count": 24,
      "outputs": [
        {
          "output_type": "execute_result",
          "data": {
            "text/plain": [
              "<Figure size 432x288 with 0 Axes>"
            ]
          },
          "metadata": {
            "tags": []
          },
          "execution_count": 24
        },
        {
          "output_type": "display_data",
          "data": {
            "image/png": "[encoded data removed]",
            "text/plain": [
              "<Figure size 432x288 with 1 Axes>"
            ]
          },
          "metadata": {
            "tags": [],
            "needs_background": "light"
          }
        },
        {
          "output_type": "display_data",
          "data": {
            "image/png": "[encoded data removed]",
            "text/plain": [
              "<Figure size 432x288 with 1 Axes>"
            ]
          },
          "metadata": {
            "tags": [],
            "needs_background": "light"
          }
        },
        {
          "output_type": "display_data",
          "data": {
            "text/plain": [
              "<Figure size 432x288 with 0 Axes>"
            ]
          },
          "metadata": {
            "tags": []
          }
        }
      ]
    },
    {
      "cell_type": "code",
      "metadata": {
        "id": "GZfdPyrW1nRN",
        "colab_type": "code",
        "colab": {}
      },
      "source": [
        ""
      ],
      "execution_count": 0,
      "outputs": []
    }
  ]
}